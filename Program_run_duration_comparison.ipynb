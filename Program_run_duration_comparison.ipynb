{
 "cells": [
  {
   "cell_type": "code",
   "execution_count": null,
   "id": "0a5dd5f8",
   "metadata": {},
   "outputs": [],
   "source": [
    "from utils import compare\n",
    "from utils import visualization\n",
    "import anndata\n",
    "from gsea_api.molecular_signatures_db import GeneSets\n",
    "import matplotlib.pyplot as plt\n",
    "import numpy as np\n",
    "import scipy\n",
    "import multiprocessing"
   ]
  },
  {
   "cell_type": "markdown",
   "id": "567e4941",
   "metadata": {},
   "source": [
    "#### Import data"
   ]
  },
  {
   "cell_type": "code",
   "execution_count": null,
   "id": "0eeb827a",
   "metadata": {},
   "outputs": [],
   "source": [
    "%cd data/\n",
    "immune_cell = anndata.read_h5ad('all_cells.h5ad')"
   ]
  },
  {
   "cell_type": "code",
   "execution_count": null,
   "id": "cf44c4d4",
   "metadata": {},
   "outputs": [],
   "source": [
    "from gsea_api.molecular_signatures_db import GeneSets\n",
    "immune_gene_set = GeneSets.from_gmt('c7.immunesigdb.v7.5.1.symbols.gmt')\n",
    "immune_gs_name = [item.name for item in immune_gene_set.gene_sets]\n",
    "immune_gene_set = [list(immune_gene_set.gene_sets[i].genes) for i in range(len(immune_gene_set.gene_sets))]\n",
    "print(f\"ImmuneSigDB database has {len(immune_gene_set)} gene sets.\")\n",
    "curated_cell_label = \"Classical monocytes\""
   ]
  },
  {
   "cell_type": "code",
   "execution_count": null,
   "id": "4213ebc4",
   "metadata": {},
   "outputs": [],
   "source": [
    "subset_scRNAseq = immune_cell[(immune_cell.obs['Organ'] == \"BLD\")*(immune_cell.obs['Manually_curated_celltype'] == curated_cell_label)]"
   ]
  },
  {
   "cell_type": "code",
   "execution_count": null,
   "id": "4403e9bf",
   "metadata": {},
   "outputs": [],
   "source": [
    "subset_scRNAseq"
   ]
  },
  {
   "cell_type": "code",
   "execution_count": null,
   "id": "3f4c3db1",
   "metadata": {},
   "outputs": [],
   "source": [
    "from imp import reload\n",
    "reload(compare)"
   ]
  },
  {
   "cell_type": "markdown",
   "id": "46d26800",
   "metadata": {},
   "source": [
    "#### Running time comparisons among different models, and the associations among their similarity matrices."
   ]
  },
  {
   "cell_type": "code",
   "execution_count": null,
   "id": "c614ff3a",
   "metadata": {},
   "outputs": [],
   "source": [
    "sample_size = [800, 1000, 1200, 1400]\n",
    "gene_set_size = [50, 100, 200, 400, 600, 800, 1000]\n",
    "clustering_metric = 'AMI'\n",
    "num_core = multiprocessing.cpu_count()\n",
    "\n",
    "np.random.seed(123)\n",
    "for g_size in gene_set_size:\n",
    "    ### Fix sampled gene sets \n",
    "    sampling = np.random.choice(len(immune_gene_set), size = g_size, replace = False)\n",
    "    sampled_gs = [immune_gene_set[item] for item in sampling]\n",
    "    sampled_gs_names = [immune_gs_name[item] for item in sampling]  \n",
    "    for s_size in sample_size:\n",
    "        \n",
    "        sampling = np.random.choice(subset_scRNAseq.X.shape[0], size = s_size, replace = False)\n",
    "        sampled_data = subset_scRNAseq[sampling,]\n",
    "\n",
    "        exec(f'res_{s_size}_{g_size} = compare.run_duration_comparison_full(sampled_gs = sampled_gs, clustering_metric = clustering_metric, sampled_data = sampled_data, num_core = num_core)')\n",
    "        exec(f'np.save(\"res_{s_size}_{g_size}.npy\", res_{s_size}_{g_size})')\n",
    "        if eval(f'np.load(\"res_{s_size}_{g_size}.npy\", allow_pickle = True)') is not None:\n",
    "            print(f'An experiment with sample size {s_size}, gene set size {g_size} finishes.')\n",
    "            exec(f'del res_{s_size}_{g_size}')"
   ]
  },
  {
   "cell_type": "markdown",
   "id": "c40ea553",
   "metadata": {},
   "source": [
    "$~$"
   ]
  },
  {
   "cell_type": "markdown",
   "id": "4464f1fd",
   "metadata": {},
   "source": [
    "$~$"
   ]
  },
  {
   "cell_type": "markdown",
   "id": "e6fe79ac",
   "metadata": {},
   "source": [
    "#### Impacts of clustering metric and hyperparameter k on $\\mathcal{S}_{\\phi|\\text{k-means}}$"
   ]
  },
  {
   "cell_type": "code",
   "execution_count": null,
   "id": "4a5cf3dd",
   "metadata": {},
   "outputs": [],
   "source": [
    "K_num = list(range(2,10,1))\n",
    "_ = [K_num.append(item) for item in range(10,90,5)]"
   ]
  },
  {
   "cell_type": "code",
   "execution_count": null,
   "id": "a4e70d3c",
   "metadata": {},
   "outputs": [],
   "source": [
    "hyperparameters = [{'n_clusters':k, 'random_state':0, 'n_init':10, 'max_iter':1000, 'tol':1e-4, 'algorithm':\"lloyd\"} for k in K_num]\n",
    "### fix samples cells and gene sets\n",
    "sample_size = [1200]\n",
    "gene_set_size = [100]\n",
    "np.random.seed(123)\n",
    "sampling = np.random.choice(subset_scRNAseq.X.shape[0], size = sample_size[0], replace = False)\n",
    "sampled_data = subset_scRNAseq[sampling,]\n",
    "sampling = np.random.choice(len(immune_gene_set), size = gene_set_size[0], replace = False)\n",
    "sampled_gs = [immune_gene_set[item] for item in sampling]\n",
    "sampled_gs_names = [immune_gs_name[item] for item in sampling] "
   ]
  },
  {
   "cell_type": "code",
   "execution_count": null,
   "id": "34494440",
   "metadata": {},
   "outputs": [],
   "source": [
    "for clustering_metric in [\"AMI\", \"NMI\", \"rand_adj\"]:\n",
    "    exec(f'hyper_kmeans = compare.run_duration_comparison_hyperparameter(sampled_gs = sampled_gs, sampled_data = sampled_data, worker = compare.hyperparameter_worker_kmeans, clustering_metric = clustering_metric, hyper_lst = hyperparameters, num_core = 60)')\n",
    "    np.save(f\"hyper_kmeans_{clustering_metric}.npy\", hyper_kmeans)\n",
    "    if eval(f'np.load(\"hyper_kmeans_{clustering_metric}.npy\", allow_pickle = True)') is not None:\n",
    "        print('Complete!')"
   ]
  },
  {
   "cell_type": "code",
   "execution_count": null,
   "id": "8c0946f7",
   "metadata": {},
   "outputs": [],
   "source": [
    "length = len(K_num)\n",
    "metrics = [\"AMI\", \"NMI\", \"rand_adj\"]\n",
    "for ns in metrics:\n",
    "    exec(f'res_hyper_{ns} = np.load(\"hyper_kmeans_{ns}.npy\", allow_pickle = True)')\n",
    "    exec(f'cor_mat_{ns} = np.array([(lambda i,j: scipy.stats.pearsonr(res_hyper_{ns}[0][i][np.triu_indices_from(res_hyper_{ns}[0][i], k = 1)],\\\n",
    "                                            res_hyper_{ns}[0][j][np.triu_indices_from(res_hyper_{ns}[0][j], k = 1)])[0])(i,j) for i in range(length)\\\n",
    "                  for j in range(length)]).reshape(length, length)')\n",
    "    exec(f'cor_RV_{ns} = np.array([(lambda i: scipy.stats.pearsonr(res_hyper_{ns}[0][i][np.triu_indices_from(res_hyper_{ns}[0][i], k = 1)],\\\n",
    "                                           res_hyper_{ns}[2][np.triu_indices_from(res_hyper_{ns}[2], k = 1)])[0])(i) for i in range(length)])')\n",
    "    exec(f'cor_mantel_{ns} = np.array([(lambda i: scipy.stats.pearsonr(res_hyper_{ns}[0][i][np.triu_indices_from(res_hyper_{ns}[0][i], k = 1)],\\\n",
    "                                           res_hyper_{ns}[3][np.triu_indices_from(res_hyper_{ns}[3], k = 1)])[0])(i) for i in range(length)])')"
   ]
  },
  {
   "cell_type": "code",
   "execution_count": null,
   "id": "357cfc4d",
   "metadata": {},
   "outputs": [],
   "source": [
    "### Gene set size = 100\n",
    "cor_RV = np.array([eval(f'cor_RV_{ns}') for ns in metrics])\n",
    "labels = [\"AMI\", \"NMI\", \"ARI\"]\n",
    "fig = visualization.vis_hyper_kmeans(cor_RV, K_num, labels = labels , ref_name = \"Compare with the modified RV coefficient\", figsize=(12,6), anno_font_size = 18, title_size = 18)\n",
    "fig.savefig(\"cor_adjusted_RV.png\", dpi = 300)"
   ]
  },
  {
   "cell_type": "code",
   "execution_count": null,
   "id": "c02d62aa",
   "metadata": {},
   "outputs": [],
   "source": [
    "### Gene set size = 100\n",
    "cor_mantel = np.array([eval(f'cor_mantel_{ns}') for ns in metrics])\n",
    "labels = [\"AMI\", \"NMI\", \"ARI\"]\n",
    "fig = visualization.vis_hyper_kmeans(cor_mantel, K_num, labels = labels , ref_name = \"Compare with the Mantel coefficient\", figsize=(12,6), anno_font_size = 18, title_size = 18)\n",
    "fig.savefig(\"cor_Mantel.png\", dpi = 300)"
   ]
  },
  {
   "cell_type": "code",
   "execution_count": null,
   "id": "2193621e",
   "metadata": {},
   "outputs": [],
   "source": [
    "### Gene set size = 100\n",
    "fig_hyper = visualization.vis_heatmap(cor_mat_AMI, labels = K_num, figsize=(20,20), title = \"With different hyperparameters (K)\",  legend_title = \"Pearson correlation coefficient\",\\\n",
    "                                      x_rotation = 0, y_rotation = 0, ticks = np.arange(0.5,length+0.5,1), \\\n",
    "                                      title_size = 20, anno_font_size = 18 )\n",
    "fig_hyper.savefig(\"kmeans_hyperparameter.png\", dpi = 300)"
   ]
  },
  {
   "cell_type": "code",
   "execution_count": null,
   "id": "b761ec3d",
   "metadata": {},
   "outputs": [],
   "source": [
    "### Gene set size = 100\n",
    "fig_hyper = visualization.vis_heatmap(cor_mat_rand_adj, labels = K_num, figsize=(20,20), title = \"With different hyperparameters (K)\",  legend_title = \"Pearson correlation coefficient\",\\\n",
    "                                      x_rotation = 0, y_rotation = 0, ticks = np.arange(0.5,length+0.5,1), \\\n",
    "                                      title_size = 20, anno_font_size = 18 )"
   ]
  },
  {
   "cell_type": "code",
   "execution_count": null,
   "id": "fbe362e0",
   "metadata": {},
   "outputs": [],
   "source": [
    "fig_hyper.savefig(\"hyper_concor/kmeans_hyperparameter_rand_adj.png\", dpi = 300)"
   ]
  },
  {
   "cell_type": "code",
   "execution_count": null,
   "id": "594fc551",
   "metadata": {},
   "outputs": [],
   "source": [
    "### Gene set size = 100\n",
    "fig_hyper = visualization.vis_heatmap(cor_mat_NMI, labels = K_num, figsize=(20,20), title = \"With different hyperparameters (K)\",  legend_title = \"Pearson correlation coefficient\",\\\n",
    "                                      x_rotation = 0, y_rotation = 0, ticks = np.arange(0.5,length+0.5,1), \\\n",
    "                                      title_size = 20, anno_font_size = 18 )"
   ]
  },
  {
   "cell_type": "code",
   "execution_count": null,
   "id": "8c582bf3",
   "metadata": {},
   "outputs": [],
   "source": [
    "fig_hyper.savefig(\"hyper_concor/kmeans_hyperparameter_NMI.png\", dpi = 300)"
   ]
  },
  {
   "cell_type": "markdown",
   "id": "04da2067",
   "metadata": {},
   "source": [
    "paired Wilcoxon signed-rank test "
   ]
  },
  {
   "cell_type": "code",
   "execution_count": null,
   "id": "5fa3939c",
   "metadata": {},
   "outputs": [],
   "source": [
    "### number of gene sets : 100\n",
    "### AMI vs ARI\n",
    "scipy.stats.wilcoxon(x = cor_RV[0,:], y= cor_RV[2,:], zero_method='wilcox', correction=False, alternative='two-sided')"
   ]
  },
  {
   "cell_type": "code",
   "execution_count": null,
   "id": "52b09343",
   "metadata": {},
   "outputs": [],
   "source": [
    "### AMI vs NMI\n",
    "scipy.stats.wilcoxon(x = cor_RV[0,:], y= cor_RV[1,:], zero_method='wilcox', correction=False, alternative='two-sided')"
   ]
  },
  {
   "cell_type": "code",
   "execution_count": null,
   "id": "8934e7ab",
   "metadata": {},
   "outputs": [],
   "source": [
    "### ARI vs NMI\n",
    "scipy.stats.wilcoxon(x = cor_RV[2,:], y= cor_RV[1,:], zero_method='wilcox', correction=False, alternative='two-sided')"
   ]
  },
  {
   "cell_type": "code",
   "execution_count": null,
   "id": "3281a36b",
   "metadata": {},
   "outputs": [],
   "source": [
    "### number of gene sets : 100\n",
    "### AMI vs ARI\n",
    "scipy.stats.wilcoxon(x = cor_mantel[0,:], y= cor_mantel[2,:], zero_method='wilcox', correction=False, alternative='two-sided')"
   ]
  },
  {
   "cell_type": "code",
   "execution_count": null,
   "id": "6d236e2f",
   "metadata": {},
   "outputs": [],
   "source": [
    "### AMI vs NMI\n",
    "scipy.stats.wilcoxon(x = cor_mantel[0,:], y= cor_mantel[1,:], zero_method='wilcox', correction=False, alternative='two-sided')"
   ]
  },
  {
   "cell_type": "code",
   "execution_count": null,
   "id": "0298f6a7",
   "metadata": {},
   "outputs": [],
   "source": [
    "### ARI vs NMI\n",
    "scipy.stats.wilcoxon(x = cor_mantel[2,:], y= cor_mantel[1,:], zero_method='wilcox', correction=False, alternative='two-sided')"
   ]
  },
  {
   "cell_type": "markdown",
   "id": "e854d892",
   "metadata": {},
   "source": [
    "$~$"
   ]
  },
  {
   "cell_type": "markdown",
   "id": "899544cf",
   "metadata": {},
   "source": [
    "$~$"
   ]
  },
  {
   "cell_type": "code",
   "execution_count": null,
   "id": "96722d37",
   "metadata": {},
   "outputs": [],
   "source": [
    "%cd res_comparison"
   ]
  },
  {
   "cell_type": "code",
   "execution_count": null,
   "id": "d8693f33",
   "metadata": {},
   "outputs": [],
   "source": [
    "sample_size = [800, 1000, 1200, 1400]\n",
    "gene_set_size = [50, 100, 200, 400, 600, 800, 1000]"
   ]
  },
  {
   "cell_type": "code",
   "execution_count": null,
   "id": "c5e68dcd",
   "metadata": {},
   "outputs": [],
   "source": [
    "fig = visualization.vis_surface(sample_size = sample_size, gs_size = gene_set_size, unit = 'hour',\\\n",
    "                          figsize = (12, 10), dpi=300,alpha = 0.75, \\\n",
    "                          legend_pos = (1.0, 1.0), elevation_rotation = [20, -60])"
   ]
  },
  {
   "cell_type": "code",
   "execution_count": null,
   "id": "1ec584f1",
   "metadata": {},
   "outputs": [],
   "source": [
    "fig.savefig('program_running_time_comparison.png', dpi = 300)"
   ]
  },
  {
   "cell_type": "code",
   "execution_count": null,
   "id": "9fb979dc",
   "metadata": {},
   "outputs": [],
   "source": [
    "fig_RV, _ = visualization.vis_surface_correlation(sample_size = sample_size, gs_size = gene_set_size,  \\\n",
    "                          figsize = (12, 10), dpi=300,alpha = 0.75, \\\n",
    "                          legend_pos = (1.0, 1.0), elevation_rotation = [20, -60])"
   ]
  },
  {
   "cell_type": "code",
   "execution_count": null,
   "id": "d0ca5d95",
   "metadata": {},
   "outputs": [],
   "source": [
    "fig_RV.savefig('Pearson_RV.png', dpi = 300)"
   ]
  },
  {
   "cell_type": "code",
   "execution_count": null,
   "id": "582492b8",
   "metadata": {},
   "outputs": [],
   "source": [
    "fig_mantel, res_mantel = visualization.vis_surface_correlation(sample_size = sample_size, gs_size = gene_set_size, reference = \"Mantel\",  \\\n",
    "                          figsize = (12, 10), dpi=300,alpha = 0.75, \\\n",
    "                          legend_pos = (1.0, 1.0), elevation_rotation = [20, -60])"
   ]
  },
  {
   "cell_type": "code",
   "execution_count": null,
   "id": "cf7ad49b",
   "metadata": {},
   "outputs": [],
   "source": [
    "fig_mantel.savefig('pearson_mantel.png', dpi = 300)"
   ]
  },
  {
   "cell_type": "markdown",
   "id": "fcb4780f",
   "metadata": {},
   "source": [
    "$~$"
   ]
  },
  {
   "cell_type": "code",
   "execution_count": null,
   "id": "ffaf16e0",
   "metadata": {},
   "outputs": [],
   "source": [
    "### Example\n",
    "x = 3\n",
    "y = 6\n",
    "print(f'Sample size is {sample_size[x]}, gene set size is {gene_set_size[y]}')\n",
    "methods = [\"RV_mod\", \"Leiden\", \"BGM\", \"Kmeans\", \"Jaccard_mod\", \"Mantel\"]"
   ]
  },
  {
   "cell_type": "code",
   "execution_count": null,
   "id": "5760dcca",
   "metadata": {},
   "outputs": [],
   "source": [
    "fig = visualization.vis_heatmap(res_mantel[x*len(gene_set_size) + y], labels = methods, figsize=(16,16), title = \"Among similarity matrices\",  legend_title = \"Pearson correlation coefficient\",\\\n",
    "                                      x_rotation = 0, y_rotation = 0, ticks = np.arange(0.5,6+0.5,1), \\\n",
    "                                      title_size = 20, anno_font_size = 18 )"
   ]
  },
  {
   "cell_type": "code",
   "execution_count": null,
   "id": "f95a3f88",
   "metadata": {},
   "outputs": [],
   "source": [
    "fig.savefig(\"cor_sim_mat.png\", dpi = 300)"
   ]
  },
  {
   "cell_type": "markdown",
   "id": "8215169a",
   "metadata": {},
   "source": [
    "$~$"
   ]
  },
  {
   "cell_type": "code",
   "execution_count": null,
   "id": "042dc44b",
   "metadata": {},
   "outputs": [],
   "source": [
    "### Example\n",
    "res_1400_1000 = np.load('res_1400_1000.npy', allow_pickle = True).tolist()"
   ]
  },
  {
   "cell_type": "code",
   "execution_count": null,
   "id": "9670cc5d",
   "metadata": {},
   "outputs": [],
   "source": [
    "sim_RV_mod = res_1400_1000[1][0]\n",
    "sim_kmeans = res_1400_1000[1][3]\n",
    "sim_mantel = res_1400_1000[1][5]"
   ]
  },
  {
   "cell_type": "code",
   "execution_count": null,
   "id": "97e1e2e2",
   "metadata": {},
   "outputs": [],
   "source": [
    "fig = visualization.vis_scatter(sim_RV_mod[np.triu_indices_from(sim_RV_mod, k = 1)],\\\n",
    "                          sim_kmeans[np.triu_indices_from(sim_kmeans, k = 1)], \\\n",
    "                          \"modified RV\", f'S$_{{Φ|k-means, AMI}}$', para_jointplot = {'kind':'hex', 'space':0.7, 'marginal_kws':dict(bins=30)},\\\n",
    "               anno_font_size = 16, height = 8, ratio = 10)"
   ]
  },
  {
   "cell_type": "code",
   "execution_count": null,
   "id": "b4dafb6e",
   "metadata": {},
   "outputs": [],
   "source": [
    "fig.savefig(\"RV_mod_kmeans_1400_1000_cor.png\", dpi = 300)"
   ]
  },
  {
   "cell_type": "code",
   "execution_count": null,
   "id": "970901ef",
   "metadata": {},
   "outputs": [],
   "source": [
    "scipy.stats.pearsonr(sim_RV_mod[np.triu_indices_from(sim_RV_mod, k = 1)], \\\n",
    "                     sim_kmeans[np.triu_indices_from(sim_kmeans, k = 1)])"
   ]
  },
  {
   "cell_type": "code",
   "execution_count": null,
   "id": "a04922fa",
   "metadata": {},
   "outputs": [],
   "source": [
    "fig = visualization.vis_scatter(sim_mantel[np.triu_indices_from(sim_mantel, k = 1)],\\\n",
    "                          sim_kmeans[np.triu_indices_from(sim_kmeans, k = 1)], \\\n",
    "                          \"Mantel\", f'S$_{{Φ|k-means, AMI}}$', para_jointplot = {'kind':'hex', 'space':0.7, 'marginal_kws':dict(bins=30)},\\\n",
    "               anno_font_size = 16, height = 8, ratio = 10)"
   ]
  },
  {
   "cell_type": "code",
   "execution_count": null,
   "id": "e9c220b1",
   "metadata": {},
   "outputs": [],
   "source": [
    "fig.savefig(\"Mantel_kmeans_1400_1000_cor.png\", dpi = 300)"
   ]
  },
  {
   "cell_type": "code",
   "execution_count": null,
   "id": "62421e2b",
   "metadata": {},
   "outputs": [],
   "source": [
    "scipy.stats.pearsonr(sim_mantel[np.triu_indices_from(sim_mantel, k = 1)], \\\n",
    "                     sim_kmeans[np.triu_indices_from(sim_kmeans, k = 1)])"
   ]
  },
  {
   "cell_type": "markdown",
   "id": "8763a4db",
   "metadata": {},
   "source": [
    "$~$"
   ]
  },
  {
   "cell_type": "markdown",
   "id": "be8b5f12",
   "metadata": {},
   "source": [
    "#### Average ratios"
   ]
  },
  {
   "cell_type": "code",
   "execution_count": null,
   "id": "4baab413",
   "metadata": {},
   "outputs": [],
   "source": [
    "time_lst = []\n",
    "for sample in sample_size:\n",
    "    time_lst.append(np.load(f'res_{sample}_1000.npy', allow_pickle = True).tolist()[0])   \n",
    "RV_mod_time = np.array([item[0][1] for item in time_lst])\n",
    "mantel_time = np.array([item[5][1] for item in time_lst])\n",
    "kmeans_time = np.array([item[3][1] for item in time_lst])\n",
    "leiden_time = np.array([item[1][1] for item in time_lst])\n",
    "BGM_time = np.array([item[2][1] for item in time_lst])"
   ]
  },
  {
   "cell_type": "code",
   "execution_count": null,
   "id": "62679249",
   "metadata": {},
   "outputs": [],
   "source": [
    "np.mean(RV_mod_time/kmeans_time)"
   ]
  },
  {
   "cell_type": "code",
   "execution_count": null,
   "id": "a9e749a9",
   "metadata": {},
   "outputs": [],
   "source": [
    "np.mean(RV_mod_time/BGM_time)"
   ]
  },
  {
   "cell_type": "code",
   "execution_count": null,
   "id": "1ac808c5",
   "metadata": {},
   "outputs": [],
   "source": [
    "np.mean(mantel_time/kmeans_time)"
   ]
  },
  {
   "cell_type": "code",
   "execution_count": null,
   "id": "d991dc93",
   "metadata": {},
   "outputs": [],
   "source": [
    "np.mean(mantel_time/BGM_time)"
   ]
  }
 ],
 "metadata": {
  "hide_input": false,
  "kernelspec": {
   "display_name": "Python 3 (ipykernel)",
   "language": "python",
   "name": "python3"
  },
  "language_info": {
   "codemirror_mode": {
    "name": "ipython",
    "version": 3
   },
   "file_extension": ".py",
   "mimetype": "text/x-python",
   "name": "python",
   "nbconvert_exporter": "python",
   "pygments_lexer": "ipython3",
   "version": "3.9.12"
  }
 },
 "nbformat": 4,
 "nbformat_minor": 5
}
