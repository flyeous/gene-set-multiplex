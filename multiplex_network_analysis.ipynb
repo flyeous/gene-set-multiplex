{
 "cells": [
  {
   "cell_type": "code",
   "execution_count": null,
   "id": "049327ec",
   "metadata": {},
   "outputs": [],
   "source": [
    "from utils import network\n",
    "from utils import visualization\n",
    "from utils import tissue\n",
    "from utils import func\n",
    "import copy\n",
    "import numpy as np\n",
    "import pandas as pd\n",
    "import pylab as plt\n",
    "import scipy\n",
    "import seaborn as sns"
   ]
  },
  {
   "cell_type": "markdown",
   "id": "8df9aa54",
   "metadata": {},
   "source": [
    "#### Section 1.  Load dataset and instantiate a multiplex network object"
   ]
  },
  {
   "cell_type": "code",
   "execution_count": null,
   "id": "1acdb2b9",
   "metadata": {},
   "outputs": [],
   "source": [
    "%cd data\n",
    "curated_cell_label = \"Classical monocytes\"\n",
    "tissue_ns = ['BLD', 'BMA','LIV', 'LNG', 'SPL']\n",
    "for name in tissue_ns:\n",
    "    globals()[name] = np.load(f'{name}_{curated_cell_label}_GO_CC_immunesig.npy', allow_pickle = True).tolist()"
   ]
  },
  {
   "cell_type": "markdown",
   "id": "10150c2d",
   "metadata": {},
   "source": [
    "Sanity check"
   ]
  },
  {
   "cell_type": "code",
   "execution_count": null,
   "id": "d6389e4b",
   "metadata": {},
   "outputs": [],
   "source": [
    "### The filtered gene sets are the same \n",
    "collection = \"immunesig\"\n",
    "method = 'kmeans'\n",
    "length = len(tissue_ns)\n",
    "filter_check = np.array([eval(i).gene_set[collection].filter_index[method] \\\n",
    "                         == eval(j).gene_set[collection].filter_index[method] \\\n",
    "                         for i in tissue_ns for j in tissue_ns]).reshape(length, length)\n",
    "if np.all(filter_check):\n",
    "    print(f'The filtered gene sets of {collection} are the same in each layer')"
   ]
  },
  {
   "cell_type": "code",
   "execution_count": null,
   "id": "023d1302",
   "metadata": {},
   "outputs": [],
   "source": [
    "from imp import reload\n",
    "reload(network)"
   ]
  },
  {
   "cell_type": "code",
   "execution_count": null,
   "id": "f5eedfd9",
   "metadata": {},
   "outputs": [],
   "source": [
    "multiplex_nw_classical_monocyte = network.multiplex_tissue_network(gene_set_collection_name = collection, layer = [eval(tis) for tis in tissue_ns],\\\n",
    "                                                layer_ns = tissue_ns, method = method, self_loop = True)\n",
    "multiplex_nw_classical_monocyte.load_Jaccard(self_loop = True)"
   ]
  },
  {
   "cell_type": "code",
   "execution_count": null,
   "id": "b6dadb5c",
   "metadata": {},
   "outputs": [],
   "source": [
    "### Remove edges with negative or low weights\n",
    "multiplex_nw_classical_monocyte.call_adj_filter_tr(q = None, tr = 0.2)"
   ]
  },
  {
   "cell_type": "markdown",
   "id": "34604268",
   "metadata": {},
   "source": [
    "$~$"
   ]
  },
  {
   "cell_type": "markdown",
   "id": "7c470ac6",
   "metadata": {},
   "source": [
    "#### Section 2: Analysis on the structures of the multiplex network\n",
    "\n",
    "#### Community detection"
   ]
  },
  {
   "cell_type": "code",
   "execution_count": null,
   "id": "156d2f6a",
   "metadata": {},
   "outputs": [],
   "source": [
    "### Modularity Vertex Partition, mininal size of a cluster is set to be 50.\n",
    "multiplex_nw_classical_monocyte.community_detection_MVP(min_cluster = 50, MVP_para = {'weights': \"weight\", 'n_iterations':-1, 'seed':123})"
   ]
  },
  {
   "cell_type": "code",
   "execution_count": null,
   "id": "6ef35342",
   "metadata": {},
   "outputs": [],
   "source": [
    "membership_classical_monocyte = multiplex_nw_classical_monocyte.community_detection['MVP'][0] \n",
    "membership_classical_monocyte = np.array(membership_classical_monocyte)\n",
    "np.unique(membership_classical_monocyte, return_counts = True)"
   ]
  },
  {
   "cell_type": "markdown",
   "id": "bb823e62",
   "metadata": {},
   "source": [
    "$~$"
   ]
  },
  {
   "cell_type": "markdown",
   "id": "354e5655",
   "metadata": {},
   "source": [
    "#### Graph embedding by UMAP featured by community memberships or centrality coefficients"
   ]
  },
  {
   "cell_type": "code",
   "execution_count": null,
   "id": "cdb1dcb5",
   "metadata": {},
   "outputs": [],
   "source": [
    "for multiple_nw in [multiplex_nw_classical_monocyte, ]:\n",
    "    multiple_nw.centrality_per_layer(method = \"hub\")"
   ]
  },
  {
   "cell_type": "code",
   "execution_count": null,
   "id": "3c3e6c02",
   "metadata": {},
   "outputs": [],
   "source": [
    "fig_lst, vis_lst = visualization.vis_multiplex_network(multiplex_nw_classical_monocyte, display_feature = 'membership', title_size = 22)"
   ]
  },
  {
   "cell_type": "code",
   "execution_count": null,
   "id": "71b2982b",
   "metadata": {},
   "outputs": [],
   "source": [
    "np.save('figures/vis_multiplex_UMAP_coord.npy', vis_lst)\n",
    "\n",
    "layer = 0\n",
    "for fig in fig_lst :\n",
    "    fig.savefig(f\"figures/UMAPS/{layer}_UMAP_membership.png\",  dpi = 300)\n",
    "    layer += 1"
   ]
  },
  {
   "cell_type": "code",
   "execution_count": null,
   "id": "ab1a0a44",
   "metadata": {},
   "outputs": [],
   "source": [
    "fig_lst, vis_lst = visualization.vis_multiplex_network(multiplex_nw_classical_monocyte, UMAP_coord = vis_lst, title_size = 22, display_feature = 'hub')"
   ]
  },
  {
   "cell_type": "markdown",
   "id": "4ffd0310",
   "metadata": {},
   "source": [
    "$~$"
   ]
  },
  {
   "cell_type": "code",
   "execution_count": null,
   "id": "7cf0b369",
   "metadata": {},
   "outputs": [],
   "source": [
    "layer = 0\n",
    "for fig in fig_lst :\n",
    "    fig.savefig(f\"figures/UMAPS/{layer}_UMAP_centrality.png\",  dpi = 300)\n",
    "    layer += 1"
   ]
  },
  {
   "cell_type": "markdown",
   "id": "9567a05c",
   "metadata": {},
   "source": [
    "$~$"
   ]
  },
  {
   "cell_type": "markdown",
   "id": "f2005cd1",
   "metadata": {},
   "source": [
    "**Layer similarity** \n",
    "\n",
    "Reference: Battiston, Federico, Vincenzo Nicosia, and Vito Latora. \"The new challenges of multiplex networks: Measures and models.\" The European Physical Journal Special Topics 226 (2017)"
   ]
  },
  {
   "cell_type": "code",
   "execution_count": null,
   "id": "ecb11c3e",
   "metadata": {},
   "outputs": [],
   "source": [
    "tissue_ns.insert(0, 'Jaccard')"
   ]
  },
  {
   "cell_type": "code",
   "execution_count": null,
   "id": "8edc74b0",
   "metadata": {},
   "outputs": [],
   "source": [
    "multiplex_nw_classical_monocyte.community_detection_MVP_per_layer(MVP_para = {'weights': \"weight\", 'n_iterations':-1, 'seed':123}, Jaccard = True)\n",
    "multiplex_nw_classical_monocyte.NMI_layers()\n",
    "layer_similarity = multiplex_nw_classical_monocyte.multiplex_property['inter-layer similarity']"
   ]
  },
  {
   "cell_type": "markdown",
   "id": "a7d864ca",
   "metadata": {},
   "source": [
    "$~$"
   ]
  },
  {
   "cell_type": "code",
   "execution_count": null,
   "id": "7452bf9c",
   "metadata": {},
   "outputs": [],
   "source": [
    "fig = visualization.vis_heatmap(layer_similarity, tissue_ns, ticks = np.arange(0.5,len(tissue_ns)+0.5,1),\\\n",
    "                                x_rotation = 20, y_rotation = 20, anno_font_size = 20, cbar_font = 18, title_size = 22, figsize=(12,12),\\\n",
    "                                title = \"Layers in the multiplex network\", \\\n",
    "                                para_heatmap = {'annot':True, 'vmin':0, 'vmax':1, 'cmap':'magma',\\\n",
    "                                                'square':True, 'cbar_kws': {\"shrink\": .15, \"aspect\":8, \"anchor\" :(0.0, 0.85)}}\n",
    "                               )"
   ]
  },
  {
   "cell_type": "code",
   "execution_count": null,
   "id": "e12cd0e4",
   "metadata": {},
   "outputs": [],
   "source": [
    "fig.savefig(f'figures/NMI_layers_{collection}_{method}.png', dpi = 300)"
   ]
  },
  {
   "cell_type": "markdown",
   "id": "53336c60",
   "metadata": {},
   "source": [
    "$~$"
   ]
  },
  {
   "cell_type": "markdown",
   "id": "8e3ca28b",
   "metadata": {},
   "source": [
    "**Structural coefficients** "
   ]
  },
  {
   "cell_type": "code",
   "execution_count": null,
   "id": "3cdf9765",
   "metadata": {},
   "outputs": [],
   "source": [
    "multiplex_nw_classical_monocyte.multiplex_participation_coefficient()\n",
    "O = multiplex_nw_classical_monocyte.multiplex_property['O']\n",
    "P = multiplex_nw_classical_monocyte.multiplex_property['P']"
   ]
  },
  {
   "cell_type": "code",
   "execution_count": null,
   "id": "a99a3fc2",
   "metadata": {},
   "outputs": [],
   "source": [
    "np.save('structural_property/O.npy', O)\n",
    "np.save('structural_property/P.npy', P)"
   ]
  },
  {
   "cell_type": "code",
   "execution_count": null,
   "id": "e050fb6f",
   "metadata": {},
   "outputs": [],
   "source": [
    "O = np.load('structural_property/O.npy')\n",
    "P = np.load('structural_property/P.npy')"
   ]
  },
  {
   "cell_type": "markdown",
   "id": "48f59309",
   "metadata": {},
   "source": [
    "$~$"
   ]
  },
  {
   "cell_type": "code",
   "execution_count": null,
   "id": "8ce4d99f",
   "metadata": {},
   "outputs": [],
   "source": [
    "fig = visualization.vis_scatter(O, P, \"Total weight (O)\", \"Multiplex participation coefficient\", para_jointplot = {'color':'g', 'alpha':0.2, 'kind':'scatter', 'space':0.9}, \\\n",
    "                                              xtick_integer = True, anno_font_size = 18, height = 8, ratio = 5)"
   ]
  },
  {
   "cell_type": "code",
   "execution_count": null,
   "id": "78ff715b",
   "metadata": {},
   "outputs": [],
   "source": [
    "fig.savefig('figures/O_P_plot.png', dpi = 300)"
   ]
  },
  {
   "cell_type": "code",
   "execution_count": null,
   "id": "ba31d2db",
   "metadata": {},
   "outputs": [],
   "source": [
    "multiplex_nw_classical_monocyte.C_1()\n",
    "C1 = multiplex_nw_classical_monocyte.multiplex_property['C1']"
   ]
  },
  {
   "cell_type": "code",
   "execution_count": null,
   "id": "2e21916a",
   "metadata": {},
   "outputs": [],
   "source": [
    "multiplex_nw_classical_monocyte.C_2()\n",
    "C2 = multiplex_nw_classical_monocyte.multiplex_property['C2']"
   ]
  },
  {
   "cell_type": "code",
   "execution_count": null,
   "id": "550e9fad",
   "metadata": {},
   "outputs": [],
   "source": [
    "np.save('structural_property/C1.npy', C1)\n",
    "np.save('structural_property/C2.npy', C2)"
   ]
  },
  {
   "cell_type": "code",
   "execution_count": null,
   "id": "897c6fa2",
   "metadata": {},
   "outputs": [],
   "source": [
    "C1 = np.load('structural_property/C1.npy')\n",
    "C2 = np.load('structural_property/C2.npy')"
   ]
  },
  {
   "cell_type": "markdown",
   "id": "90e65d5d",
   "metadata": {},
   "source": [
    "$~$"
   ]
  },
  {
   "cell_type": "code",
   "execution_count": null,
   "id": "d4e36c77",
   "metadata": {},
   "outputs": [],
   "source": [
    "fig = visualization.vis_scatter(C1, C2, \"C1\", \"C2\", \\\n",
    "                                para_jointplot = {'color':'y', 'alpha':0.25,\\\n",
    "                                                  'xlim':(0.0,0.6), 'ylim':(0.0, 0.6), 'kind':'scatter', 'space':0.9},\\\n",
    "                               anno_font_size = 18, height = 8, ratio = 8)"
   ]
  },
  {
   "cell_type": "code",
   "execution_count": null,
   "id": "7e1f40dc",
   "metadata": {},
   "outputs": [],
   "source": [
    "fig.savefig('figures/C1_C2.png', dpi = 300)"
   ]
  },
  {
   "cell_type": "code",
   "execution_count": null,
   "id": "22f801e9",
   "metadata": {},
   "outputs": [],
   "source": [
    "multiplex_nw_classical_monocyte.multiplex_page_rank()\n",
    "multiplex_nw_classical_monocyte.Jaccard_page_rank()"
   ]
  },
  {
   "cell_type": "code",
   "execution_count": null,
   "id": "469f6466",
   "metadata": {},
   "outputs": [],
   "source": [
    "mpg = multiplex_nw_classical_monocyte.multiplex_property['multiplex_page_rank']\n",
    "jpg = multiplex_nw_classical_monocyte.multiplex_property['Jaccard_page_rank']"
   ]
  },
  {
   "cell_type": "code",
   "execution_count": null,
   "id": "6c973174",
   "metadata": {},
   "outputs": [],
   "source": [
    "np.save('structural_property/mpg.npy', mpg)\n",
    "np.save('structural_property/jpg.npy', jpg)"
   ]
  },
  {
   "cell_type": "code",
   "execution_count": null,
   "id": "858549d2",
   "metadata": {},
   "outputs": [],
   "source": [
    "mpg = np.load('structural_property/mpg.npy')\n",
    "jpg = np.load('structural_property/jpg.npy')"
   ]
  },
  {
   "cell_type": "markdown",
   "id": "6b702134",
   "metadata": {},
   "source": [
    "$~$"
   ]
  },
  {
   "cell_type": "code",
   "execution_count": null,
   "id": "30ee14b8",
   "metadata": {},
   "outputs": [],
   "source": [
    "fig = visualization.vis_scatter(jpg/(1/(len(jpg))), mpg/(1/(len(mpg))),  \"PageRank (ratio) in the Jaccard layer\", \"Multiplex PageRank (ratio)\",\\\n",
    "                          para_jointplot = {'color':'r', 'alpha':0.3, 'xlim':(0, 2),\\\n",
    "                                            'ylim' : (0,30), 'kind':'scatter', 'space':0.9, 'marginal_kws':dict(bins=100)},\\\n",
    "                               anno_font_size = 18, height = 8, ratio = 5)"
   ]
  },
  {
   "cell_type": "code",
   "execution_count": null,
   "id": "bef53c91",
   "metadata": {},
   "outputs": [],
   "source": [
    "fig.savefig('figures/centrality.png', dpi = 300)"
   ]
  },
  {
   "cell_type": "markdown",
   "id": "238a82de",
   "metadata": {},
   "source": [
    "$~$"
   ]
  },
  {
   "cell_type": "code",
   "execution_count": null,
   "id": "c7f6aa37",
   "metadata": {},
   "outputs": [],
   "source": [
    "fig = visualization.vis_scatter(gene_set_size, mpg/(1/(len(mpg))),  \"Gene set size\", \"Multiplex PageRank (ratio)\",\\\n",
    "                          xtick_integer = True, para_jointplot = {'color':'b', 'alpha':0.3, 'xlim':(np.min(gene_set_size)-5,np.max(gene_set_size)+2),\\\n",
    "                                            'ylim' : (0,30), 'kind':'scatter', 'space':0.9, 'marginal_kws':dict(bins=100)},\\\n",
    "                               anno_font_size = 18, height = 8, ratio = 5)"
   ]
  },
  {
   "cell_type": "code",
   "execution_count": null,
   "id": "8c04145f",
   "metadata": {},
   "outputs": [],
   "source": [
    "fig.savefig('figures/gene_set_size_centrality.png', dpi = 300)"
   ]
  },
  {
   "cell_type": "markdown",
   "id": "87c63353",
   "metadata": {},
   "source": [
    "**Correlations among gene set attributes**"
   ]
  },
  {
   "cell_type": "code",
   "execution_count": null,
   "id": "9d14adbc",
   "metadata": {},
   "outputs": [],
   "source": [
    "# tissue_ns.pop(0)"
   ]
  },
  {
   "cell_type": "code",
   "execution_count": null,
   "id": "cb6cf4a6",
   "metadata": {},
   "outputs": [],
   "source": [
    "filter_index = SPL.gene_set[collection].filter_index['kmeans']\n",
    "gene_set_size = np.array([len(item) for item in SPL.gene_set[collection].gene_set])[filter_index]\n",
    "items = [O, P, C1, C2, mpg/(1/len(mpg)), jpg/(1/len(jpg)), gene_set_size, membership_classical_monocyte]   \n",
    "items = [np.round(item, 2) for item in items]\n",
    "labels = ['Total weight', 'P', 'C1', 'C2', 'Multiplex PageRank', 'PageRank-Jaccard', 'gene set size', 'multiplex community']\n",
    "\n",
    "data = pd.DataFrame(data = np.array(items).transpose(), columns = labels)\n",
    "data['multiplex community'] = data['multiplex community'].astype('int')+1"
   ]
  },
  {
   "cell_type": "code",
   "execution_count": null,
   "id": "0cbb2536",
   "metadata": {},
   "outputs": [],
   "source": [
    "# matplotlib.rcParams.update(matplotlib.rcParamsDefault)\n",
    "plt.figure(figsize=(19,19))\n",
    "plt.rc('legend',fontsize=25, title_fontsize=25)\n",
    "plt.rc('axes', labelsize = 18 )\n",
    "plt.rc('xtick', labelsize = 16)\n",
    "plt.rc('ytick', labelsize = 16)\n",
    "fig = sns.pairplot(data, corner = True, hue = 'multiplex community', kind = 'scatter', palette = \"tab10\", height = 5.5)\n",
    "plt.setp(fig._legend.get_texts(), fontsize=30) \n",
    "plt.setp(fig._legend.get_title(), fontsize=34)"
   ]
  },
  {
   "cell_type": "code",
   "execution_count": null,
   "id": "e7aa61bd",
   "metadata": {},
   "outputs": [],
   "source": [
    "fig.figure.savefig('figures/attribute_pair_plot.png', dpi = 150)"
   ]
  },
  {
   "cell_type": "code",
   "execution_count": null,
   "id": "650742cc",
   "metadata": {},
   "outputs": [],
   "source": [
    "items.pop(-1)\n",
    "labels.pop(-1)"
   ]
  },
  {
   "cell_type": "code",
   "execution_count": null,
   "id": "6a39ba84",
   "metadata": {},
   "outputs": [],
   "source": [
    "### correlation\n",
    "cor_res = np.array([scipy.stats.spearmanr(i,j)[0] for i in items for j in items]).reshape(len(items),len(items))\n",
    "# ### p values\n",
    "# cor_p = np.array([scipy.stats.spearmanr(i,j)[1] for i in items for j in items]).reshape(len(items),len(items))"
   ]
  },
  {
   "cell_type": "markdown",
   "id": "3baddfc9",
   "metadata": {},
   "source": [
    "$~$"
   ]
  },
  {
   "cell_type": "code",
   "execution_count": null,
   "id": "53231a3f",
   "metadata": {},
   "outputs": [],
   "source": [
    "fig = visualization.vis_heatmap(cor_res, x_rotation = 20, y_rotation = 20, \\\n",
    "                                figsize=(15,15), labels = labels, \\\n",
    "                                legend_title = \"\", cbar_font = 18,\n",
    "                                anno_font_size = 20, title_size = 22,\\\n",
    "                                title = \"Spearman correlations among attributes of gene sets\", ticks = np.arange(0.5,len(items)+0.5,1),\\\n",
    "                               para_heatmap = {'annot':True, 'vmin':-1, 'vmax':1, \\\n",
    "                                               'cmap':'magma', 'square':True,\\\n",
    "                                               'cbar_kws': {\"shrink\": .15, \"aspect\":8, \"anchor\" :(0.0, 0.85), \"ticks\":[-1 + 0.5*i for i in range(5)]}})"
   ]
  },
  {
   "cell_type": "code",
   "execution_count": null,
   "id": "132ea4bd",
   "metadata": {},
   "outputs": [],
   "source": [
    "fig.savefig('figures/cor_plot.png', dpi = 300)"
   ]
  },
  {
   "cell_type": "markdown",
   "id": "d9ef71a5",
   "metadata": {},
   "source": [
    "$~$"
   ]
  },
  {
   "cell_type": "markdown",
   "id": "addc34e3",
   "metadata": {},
   "source": [
    "#### Appendix:  Transfer to R for Grimon "
   ]
  },
  {
   "cell_type": "code",
   "execution_count": null,
   "id": "819ddce2",
   "metadata": {},
   "outputs": [],
   "source": [
    "### For visualization in Grimon (R package)\n",
    "M = len(vis_lst)\n",
    "vis_df = np.concatenate([vis_lst[i].drop([\"feature\"], axis = 1).to_numpy() for i in range(M)], axis = 1)\n",
    "### Featured by the community membership\n",
    "palette = list(sns.color_palette(n_colors = len(np.unique(membership_classical_monocyte))).as_hex())\n",
    "color_membership = [palette[select] for select in membership_classical_monocyte]"
   ]
  },
  {
   "cell_type": "code",
   "execution_count": null,
   "id": "16f428a2",
   "metadata": {},
   "outputs": [],
   "source": [
    "color_high_mpg = ['#ff7f0e' if top else '#7f7f7f' for top in mpg >= np.quantile(mpg, 0.9)]\n",
    "color_high_C2 = ['#17becf' if top else '#7f7f7f' for top in C2 >= np.quantile(C2, 0.9)]\n",
    "color_low_P = ['#e377c2' if top else '#7f7f7f' for top in P <= np.quantile(P, 0.15)] \n",
    "color_high_O = ['#1f77b4' if top else '#7f7f7f' for top in O >= np.quantile(O, 0.5)]"
   ]
  },
  {
   "cell_type": "code",
   "execution_count": null,
   "id": "8707710d",
   "metadata": {},
   "outputs": [],
   "source": [
    "import rpy2\n",
    "### low-level API\n",
    "import rpy2.rinterface as rinterface\n",
    "### high-level API \n",
    "import rpy2.robjects as ro\n",
    "from rpy2.robjects.packages import importr\n",
    "from rpy2.robjects import pandas2ri\n",
    "from rpy2.robjects.conversion import localconverter\n",
    "\n",
    "with localconverter(ro.default_converter + pandas2ri.converter):\n",
    "    vis_df_r = ro.conversion.py2rpy(pd.DataFrame(vis_df))\n",
    "    vis_label_r = ro.conversion.py2rpy(tissue_ns)\n",
    "    color_r_membership = ro.conversion.py2rpy(color_membership)\n",
    "    color_r_high_C2 = ro.conversion.py2rpy(color_high_C2)\n",
    "    color_r_high_mpg = ro.conversion.py2rpy(color_high_mpg)\n",
    "    color_r_low_P = ro.conversion.py2rpy(color_low_P)\n",
    "    color_r_high_O = ro.conversion.py2rpy(color_high_O)\n",
    "    \n",
    "### Load into R environment\n",
    "    ro.globalenv[\"vis_df_r\"] = vis_df_r\n",
    "    ro.globalenv[\"vis_label_r\"] = vis_label_r\n",
    "    ro.globalenv[\"color_r_membership\"] = color_r_membership\n",
    "    ro.globalenv[\"color_r_high_C2\"] = color_r_high_C2\n",
    "    ro.globalenv[\"color_r_high_mpg\"] = color_r_high_mpg\n",
    "    ro.globalenv[\"color_r_low_P\"] = color_r_low_P\n",
    "    ro.globalenv[\"color_r_high_O\"] = color_r_high_O\n",
    "    ro.r(\n",
    "        '''\n",
    "            save(vis_df_r, file = \"vis_df.Rdata\")  \n",
    "            save(vis_label_r, file = \"vis_label.Rdata\")\n",
    "            save(color_r_membership, file = \"color_membership.Rdata\")\n",
    "            save(color_r_high_C2, file = \"color_r_high_C2.Rdata\")\n",
    "            save(color_r_high_mpg, file = \"color_r_high_mpg.Rdata\")\n",
    "            save(color_r_low_P, file = \"color_r_low_P.Rdata\")\n",
    "            save(color_r_high_O, file = \"color_r_high_O.Rdata\")\n",
    "        ''' \n",
    "        )\n",
    "print (\"Transfer successfully!\")"
   ]
  },
  {
   "cell_type": "code",
   "execution_count": null,
   "id": "45e4280d",
   "metadata": {},
   "outputs": [],
   "source": [
    "hub_color_map = sns.color_palette(palette = 'Spectral', as_cmap = True)\n",
    "hub_score = copy.deepcopy(multiplex_nw_classical_monocyte.multiplex_property['per_layer_hub'])\n",
    "hub_score.append(multiplex_nw_classical_monocyte.multiplex_property['Jaccard_hub'])\n",
    "hub_score = np.array(hub_score)\n",
    "color_hub_per_layer = []\n",
    "for i in range(hub_score.shape[0]):\n",
    "    data = hub_score[i,:]\n",
    "    data_norm = (data - np.min(data))/(np.max(data) - np.min(data))\n",
    "    _color_rgb = hub_color_map(X = data_norm, alpha = None).tolist()\n",
    "    _color_layer = [matplotlib.colors.to_hex(item, keep_alpha=False) for item in _color_rgb]\n",
    "    color_hub_per_layer.append(_color_layer)\n",
    "\n",
    "with localconverter(ro.default_converter + pandas2ri.converter):\n",
    "    color_hub_per_layer = ro.conversion.py2rpy(color_hub_per_layer)\n",
    "    ro.globalenv[\"color_hub_per_layer\"] = color_hub_per_layer\n",
    "    ro.r(\n",
    "        '''\n",
    "            save(color_hub_per_layer, file = \"color_hub_per_layer.Rdata\")\n",
    "        ''' \n",
    "        )"
   ]
  },
  {
   "cell_type": "code",
   "execution_count": null,
   "id": "0ed37304",
   "metadata": {},
   "outputs": [],
   "source": [
    "# weight_color_map = sns.color_palette(palette = 'Spectral', as_cmap = True)\n",
    "# weight_score = np.array([np.sum(multiplex_nw_classical_monocyte.adj_Jaccard, axis = 0), \\\n",
    "#  *[np.sum(mat, axis = 0) for mat in multiplex_nw_classical_monocyte.adj_filtered_lst]])\n",
    "# color_weight_per_layer = []\n",
    "# for i in range(weight_score.shape[0]):\n",
    "#     data = weight_score[i,:]\n",
    "#     data_norm = (data - np.min(data))/(np.max(data) - np.min(data))\n",
    "#     _color_rgb = weight_color_map(X = data_norm, alpha = None).tolist()\n",
    "#     _color_layer = [matplotlib.colors.to_hex(item, keep_alpha=False) for item in _color_rgb]\n",
    "#     color_weight_per_layer.append(_color_layer)\n",
    "\n",
    "# with localconverter(ro.default_converter + pandas2ri.converter):\n",
    "#     color_weight_per_layer = ro.conversion.py2rpy(color_weight_per_layer)\n",
    "#     ro.globalenv[\"color_weight_per_layer\"] = color_weight_per_layer\n",
    "#     ro.r(\n",
    "#         '''\n",
    "#             save(color_weight_per_layer, file = \"color_weight_per_layer.Rdata\")\n",
    "#         ''' \n",
    "#         )\n",
    "\n",
    "# num_color_map = sns.color_palette(palette = 'Spectral', as_cmap = True)\n",
    "# num_score = np.array([np.sum(multiplex_nw_classical_monocyte.adj_Jaccard>0, axis = 0), \\\n",
    "#  *[np.sum(mat>0, axis = 0) for mat in multiplex_nw_classical_monocyte.adj_filtered_lst]])\n",
    "# color_num_per_layer = []\n",
    "# for i in range(weight_score.shape[0]):\n",
    "#     data = num_score[i,:]\n",
    "#     data_norm = (data - np.min(data))/(np.max(data) - np.min(data))\n",
    "#     _color_rgb = num_color_map(X = data_norm, alpha = None).tolist()\n",
    "#     _color_layer = [matplotlib.colors.to_hex(item, keep_alpha=False) for item in _color_rgb]\n",
    "#     color_num_per_layer.append(_color_layer)\n",
    "\n",
    "# with localconverter(ro.default_converter + pandas2ri.converter):\n",
    "#     color_num_per_layer = ro.conversion.py2rpy(color_num_per_layer)\n",
    "#     ro.globalenv[\"color_num_per_layer\"] = color_num_per_layer\n",
    "#     ro.r(\n",
    "#         '''\n",
    "#             save(color_num_per_layer, file = \"color_num_per_layer.Rdata\")\n",
    "#         ''' \n",
    "#         )"
   ]
  }
 ],
 "metadata": {
  "hide_input": false,
  "kernelspec": {
   "display_name": "Python 3 (ipykernel)",
   "language": "python",
   "name": "python3"
  },
  "language_info": {
   "codemirror_mode": {
    "name": "ipython",
    "version": 3
   },
   "file_extension": ".py",
   "mimetype": "text/x-python",
   "name": "python",
   "nbconvert_exporter": "python",
   "pygments_lexer": "ipython3",
   "version": "3.9.12"
  }
 },
 "nbformat": 4,
 "nbformat_minor": 5
}
