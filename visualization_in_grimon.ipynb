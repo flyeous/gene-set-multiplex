{
 "cells": [
  {
   "cell_type": "code",
   "execution_count": 2,
   "id": "603b6d5c",
   "metadata": {},
   "outputs": [],
   "source": [
    "### Reference: https://github.com/mkanai/grimon\n",
    "library(grimon)\n",
    "library(rgl)\n",
    "library(rlang)\n",
    "library(ggplot2)\n",
    "library(dplyr)"
   ]
  },
  {
   "cell_type": "code",
   "execution_count": 1,
   "id": "3c92f835",
   "metadata": {},
   "outputs": [
    {
     "name": "stderr",
     "output_type": "stream",
     "text": [
      "This build of rgl does not include OpenGL functions.  Use\n",
      " rglwidget() to display results, e.g. via options(rgl.printRglwidget = TRUE).\n",
      "\n",
      "\n",
      "Attaching package: ‘dplyr’\n",
      "\n",
      "\n",
      "The following objects are masked from ‘package:stats’:\n",
      "\n",
      "    filter, lag\n",
      "\n",
      "\n",
      "The following objects are masked from ‘package:base’:\n",
      "\n",
      "    intersect, setdiff, setequal, union\n",
      "\n",
      "\n"
     ]
    },
    {
     "ename": "ERROR",
     "evalue": "Error in unlist(vis_label_r): object 'vis_label_r' not found\n",
     "output_type": "error",
     "traceback": [
      "Error in unlist(vis_label_r): object 'vis_label_r' not found\nTraceback:\n",
      "1. as.factor(unlist(vis_label_r))",
      "2. is.factor(x)",
      "3. unlist(vis_label_r)"
     ]
    }
   ],
   "source": [
    "### Load prepared data \n",
    "vis_label_r <- as.factor(unlist(vis_label_r))\n",
    "#color_coexpression <- unlist(color_r)\n",
    "color_membership <- unlist(color_r_membership)\n",
    "color_high_mpg <- unlist(color_r_high_mpg)\n",
    "color_high_C2 <- unlist(color_r_high_C2)\n",
    "color_low_P <- unlist(color_r_low_P)\n",
    "color_hub_per_layer <- unlist(color_hub_per_layer)\n",
    "\n",
    "### grimon plot function\n",
    "set.seed(999)\n",
    "res <- grimon(x = vis_df_r, label = vis_label_r,col = NULL,\n",
    "       optimize_coordinates = TRUE, maxiter = 1e3,  border_col = NULL, plane_col = NULL,\n",
    "       score_function = \"angle\", return_coordinates = TRUE, \n",
    "       segment_alpha = 0.4, windowRect = c(0, 0, 1000, 2400),plot_2d_panels = TRUE)\n",
    "\n",
    "rgl.snapshot(\"lemniscus_mpg.png\")\n",
    "\n",
    "\n",
    "### 2d plot\n",
    "text <- \"c(\"\n",
    "for (i in 1:6){\n",
    "  str <- sprintf(\"'%d'='%s'\", i,as.character(vis_label_r[i]))\n",
    "  if (i != 6){\n",
    "    text <- paste(text,str,\",\", sep = \"\")\n",
    "  }else{\n",
    "    text <- paste(text,str,\")\", sep = \"\")\n",
    "  }\n",
    "}\n",
    "\n",
    "ggplot(data = data.frame(res)) + \n",
    "  geom_jitter(aes(X1,X2), colour = rep(color_membership, times = dim(vis_df_r)[2]/2)) + \n",
    "  theme_void()+\n",
    "  facet_wrap(~X3, labeller = as_labeller(eval(parse(text = text))))+\n",
    "  theme(strip.text = element_text(size = 18))"
   ]
  },
  {
   "cell_type": "code",
   "execution_count": null,
   "id": "c3587737",
   "metadata": {},
   "outputs": [],
   "source": []
  }
 ],
 "metadata": {
  "hide_input": false,
  "kernelspec": {
   "display_name": "R",
   "language": "R",
   "name": "ir"
  },
  "language_info": {
   "codemirror_mode": "r",
   "file_extension": ".r",
   "mimetype": "text/x-r-source",
   "name": "R",
   "pygments_lexer": "r",
   "version": "4.1.2"
  }
 },
 "nbformat": 4,
 "nbformat_minor": 5
}
