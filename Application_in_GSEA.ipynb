{
 "cells": [
  {
   "cell_type": "code",
   "execution_count": null,
   "id": "814b771d",
   "metadata": {},
   "outputs": [],
   "source": [
    "from utils import func\n",
    "from utils import network\n",
    "from utils import visualization\n",
    "from matplotlib_venn import venn3, venn3_circles\n",
    "import anndata\n",
    "import numpy as np\n",
    "import pylab as plt"
   ]
  },
  {
   "cell_type": "code",
   "execution_count": null,
   "id": "42cf2b61",
   "metadata": {},
   "outputs": [],
   "source": [
    "%cd data/\n",
    "immune_cell = anndata.read_h5ad('all_cells.h5ad')"
   ]
  },
  {
   "cell_type": "code",
   "execution_count": null,
   "id": "2840ae73",
   "metadata": {},
   "outputs": [],
   "source": [
    "### Build a multiplex network (two layers) for filtered gene sets in GO-CC\n",
    "curated_cell_label = \"Classical monocytes\"\n",
    "tissue_ns = ['BLD', 'BMA',]\n",
    "for name in tissue_ns:\n",
    "    globals()[name] = np.load(f'{name}_{curated_cell_label}_GO_CC_immunesig.npy', allow_pickle = True).tolist()\n",
    "gs_names = BLD.gene_set['GO-CC'].gs_names\n",
    "filter_index = BLD.gene_set['GO-CC'].filter_index['kmeans']\n",
    "gs_names = np.array(gs_names)[filter_index]"
   ]
  },
  {
   "cell_type": "code",
   "execution_count": null,
   "id": "d59db458",
   "metadata": {},
   "outputs": [],
   "source": [
    "multiplex_nw_GO_CC = network.multiplex_tissue_network(gene_set_collection_name = 'GO-CC', layer = [eval(tis) for tis in tissue_ns],\\\n",
    "                                                layer_ns = tissue_ns, method = 'kmeans', self_loop = True)\n",
    "multiplex_nw_GO_CC.load_Jaccard(self_loop = True)\n",
    "### Remove negative edges or those with weak weights\n",
    "multiplex_nw_GO_CC.call_adj_filter_tr(q = None, tr = 0.2)"
   ]
  },
  {
   "cell_type": "code",
   "execution_count": null,
   "id": "6bfb68f7",
   "metadata": {},
   "outputs": [],
   "source": [
    "multiplex_nw_GO_CC.multiplex_participation_coefficient()\n",
    "P = multiplex_nw_GO_CC.multiplex_property['P']"
   ]
  },
  {
   "cell_type": "code",
   "execution_count": null,
   "id": "d656799b",
   "metadata": {},
   "outputs": [],
   "source": [
    "multiplex_nw_GO_CC.multiplex_page_rank()\n",
    "multiplex_nw_GO_CC.Jaccard_page_rank()"
   ]
  },
  {
   "cell_type": "code",
   "execution_count": null,
   "id": "562db298",
   "metadata": {},
   "outputs": [],
   "source": [
    "multiplex_nw_GO_CC.C_1()\n",
    "C1 = multiplex_nw_GO_CC.multiplex_property['C1']"
   ]
  },
  {
   "cell_type": "code",
   "execution_count": null,
   "id": "9f95b384",
   "metadata": {},
   "outputs": [],
   "source": [
    "jpg = multiplex_nw_GO_CC.multiplex_property['Jaccard_page_rank']\n",
    "mpg = multiplex_nw_GO_CC.multiplex_property['multiplex_page_rank']\n",
    "C1 = multiplex_nw_GO_CC.multiplex_property['C1']\n",
    "for ns in [\"mpg\", \"jpg\", \"C1\",\"P\"]:\n",
    "    if ns == 'mpg':\n",
    "        denominator = (1/len(mpg))\n",
    "    elif ns == 'jpg':\n",
    "        denominator = (1/len(jpg))\n",
    "    else:\n",
    "        denominator = 1        \n",
    "    globals()[ns+'_dict'] = {gs_names[i]:eval(ns)[i]/denominator for i in range(len(gs_names))}"
   ]
  },
  {
   "cell_type": "markdown",
   "id": "144d5a5f",
   "metadata": {},
   "source": [
    "#### Gene set enrichment analysis: Classical monocytes in BMA vs BLD"
   ]
  },
  {
   "cell_type": "code",
   "execution_count": null,
   "id": "d0e6a547",
   "metadata": {},
   "outputs": [],
   "source": [
    "for tis in ['BLD', 'BMA']:\n",
    "    globals()[tis] = immune_cell[(immune_cell.obs['Organ'] == tis)\\\n",
    "                                 *(immune_cell.obs['Manually_curated_celltype'] == curated_cell_label)]"
   ]
  },
  {
   "cell_type": "code",
   "execution_count": null,
   "id": "39a731a5",
   "metadata": {},
   "outputs": [],
   "source": [
    "gsea_res, pd_data = func.gsea_tissue(BMA, BLD, exp_n = \"BMA\", con_n = \"BLD\", \\\n",
    "                                     gene_set_path = \"c5.go.cc.v2023.1.Hs.symbols.gmt\",\\\n",
    "                                    para_gsea = {'permutation_type': 'phenotype', 'permutation_num':2000, 'outdir':None,\\\n",
    "                            'method':'signal_to_noise', 'threads':60, 'seed':30})"
   ]
  },
  {
   "cell_type": "code",
   "execution_count": null,
   "id": "c0afcd9c",
   "metadata": {},
   "outputs": [],
   "source": [
    "### Enriched gene sets with FDR adjusted q-values less than 0.05\n",
    "Enriched_df = gsea_res.res2d.loc[gsea_res.res2d['FWER p-val'] <= 0.05,]"
   ]
  },
  {
   "cell_type": "code",
   "execution_count": null,
   "id": "a09b3c7c",
   "metadata": {},
   "outputs": [],
   "source": [
    "df, ax = visualization.vis_gsea(Enriched_df, rank_label = \"NES\", top = 20, ax_title = 'Enriched gene sets in GO-CC',\\\n",
    "                              x_label = \"NES (absolute)\", \\\n",
    "                              rank_dict = None, gs_ns = gs_names,\\\n",
    "                              fig_size = (10,6), \n",
    "                                title_size = 16, anno_font_size = 14)"
   ]
  },
  {
   "cell_type": "code",
   "execution_count": null,
   "id": "8d87bd05",
   "metadata": {},
   "outputs": [],
   "source": [
    "ax.figure.savefig('GSEA/enriched_gs_NES.png', dpi = 300)"
   ]
  },
  {
   "cell_type": "code",
   "execution_count": null,
   "id": "ad7deb7f",
   "metadata": {},
   "outputs": [],
   "source": [
    "df, ax = visualization.vis_gsea(Enriched_df, ax_title = 'Enriched gene sets in GO-CC',\n",
    "                                rank_label = \"multiplex PageRank\", \\\n",
    "                                x_label = \"multiplex PageRank (ratio)\", \\\n",
    "                                top = 20,\n",
    "                                rank_dict = mpg_dict, \\\n",
    "                                gs_ns = gs_names,\\\n",
    "                                fig_size = (10,6), \n",
    "                                title_size = 16, anno_font_size = 14)"
   ]
  },
  {
   "cell_type": "code",
   "execution_count": null,
   "id": "56bbc2d1",
   "metadata": {},
   "outputs": [],
   "source": [
    "ax.figure.savefig('GSEA/enriched_gs_mpg.png', dpi = 300)"
   ]
  },
  {
   "cell_type": "code",
   "execution_count": null,
   "id": "0be319c4",
   "metadata": {},
   "outputs": [],
   "source": [
    "df, ax = visualization.vis_gsea(Enriched_df, ax_title = 'Enriched gene sets in GO-CC',\n",
    "                                rank_label = \"JPG\", \\\n",
    "                                x_label = \"PageRank-Jaccard (ratio)\", \\\n",
    "                                top = 20,\n",
    "                                rank_dict = jpg_dict, \\\n",
    "                                gs_ns = gs_names,\\\n",
    "                                fig_size = (10,6), \n",
    "                                title_size = 16, anno_font_size = 14)"
   ]
  },
  {
   "cell_type": "code",
   "execution_count": null,
   "id": "f97409e3",
   "metadata": {},
   "outputs": [],
   "source": [
    "ax.figure.savefig('GSEA/enriched_gs_jpg.png', dpi = 300)"
   ]
  },
  {
   "cell_type": "code",
   "execution_count": null,
   "id": "9eb0c791",
   "metadata": {},
   "outputs": [],
   "source": [
    "df, ax = visualization.vis_gsea(Enriched_df, ax_title = 'Enriched gene sets in GO-CC',\\\n",
    "                              rank_label = \"C1_coefficient\", colorbar = 'Spectral', x_label = \"C1\",\n",
    "                                top = 20,\\\n",
    "                rank_dict = C1_dict,  gs_ns = gs_names,\\\n",
    "                             fig_size = (10,6), \n",
    "                            title_size = 16, anno_font_size = 14)"
   ]
  },
  {
   "cell_type": "code",
   "execution_count": null,
   "id": "b4f0462b",
   "metadata": {},
   "outputs": [],
   "source": [
    "ax.figure.savefig('GSEA/enriched_gs_C1.png', dpi = 300)"
   ]
  },
  {
   "cell_type": "code",
   "execution_count": null,
   "id": "ffff6b0a",
   "metadata": {},
   "outputs": [],
   "source": [
    "df, ax = visualization.vis_gsea(Enriched_df, ax_title = 'Enriched gene sets in GO-CC',\\\n",
    "                              rank_label = \"P\", colorbar = 'viridis', x_label = \"multiplex participation coefficient\",\n",
    "                                top = 20,\\\n",
    "                rank_dict = P_dict,  reverse = True, gs_ns = gs_names,\\\n",
    "                             fig_size = (10,6), \n",
    "                            title_size = 16, anno_font_size = 14)"
   ]
  },
  {
   "cell_type": "code",
   "execution_count": null,
   "id": "1742e220",
   "metadata": {},
   "outputs": [],
   "source": [
    "ax.figure.savefig('GSEA/enriched_gs_P.png', dpi = 300)"
   ]
  },
  {
   "cell_type": "code",
   "execution_count": null,
   "id": "39d2c0d8",
   "metadata": {},
   "outputs": [],
   "source": [
    "plt.figure(figsize=(10,10))\n",
    "plt.rcParams['font.size'] = '14'\n",
    "plt.title(\"\")\n",
    "v = venn3([set(c1_lst), set(mpg_lst), set(jpg_lst)], ('C1 coefficient', 'Multiplex PageRank centrality',  'Centrality in Jaccard layer'))"
   ]
  },
  {
   "cell_type": "markdown",
   "id": "091ea37f",
   "metadata": {},
   "source": [
    "Reference: Fang, Zhuoqing, Xinyuan Liu, and Gary Peltz. \"GSEApy: a comprehensive package for performing gene set enrichment analysis in Python.\" Bioinformatics (2022)."
   ]
  }
 ],
 "metadata": {
  "hide_input": false,
  "kernelspec": {
   "display_name": "Python 3 (ipykernel)",
   "language": "python",
   "name": "python3"
  },
  "language_info": {
   "codemirror_mode": {
    "name": "ipython",
    "version": 3
   },
   "file_extension": ".py",
   "mimetype": "text/x-python",
   "name": "python",
   "nbconvert_exporter": "python",
   "pygments_lexer": "ipython3",
   "version": "3.9.12"
  }
 },
 "nbformat": 4,
 "nbformat_minor": 5
}
