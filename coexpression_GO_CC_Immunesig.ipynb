{
 "cells": [
  {
   "cell_type": "code",
   "execution_count": null,
   "id": "9b21172d",
   "metadata": {},
   "outputs": [],
   "source": [
    "from utils import network\n",
    "from utils import visualization\n",
    "from utils import func\n",
    "from utils import tissue\n",
    "import numpy as np\n",
    "import pandas as pd"
   ]
  },
  {
   "cell_type": "markdown",
   "id": "a81215fd",
   "metadata": {},
   "source": [
    "#### Load data"
   ]
  },
  {
   "cell_type": "code",
   "execution_count": null,
   "id": "d82f5c72",
   "metadata": {},
   "outputs": [],
   "source": [
    "%cd data/\n",
    "curated_cell_label = \"Classical monocytes\"\n",
    "tissue_ns = ['BLD', 'BMA','LIV', 'LNG', 'SPL']\n",
    "for name in tissue_ns:\n",
    "    globals()[name] = np.load(f'{name}_{curated_cell_label}_GO_CC_immunesig.npy', allow_pickle = True).tolist()"
   ]
  },
  {
   "cell_type": "markdown",
   "id": "5a8e6dd6",
   "metadata": {},
   "source": [
    "Sanity checks"
   ]
  },
  {
   "cell_type": "code",
   "execution_count": null,
   "id": "1f5b81fc",
   "metadata": {},
   "outputs": [],
   "source": [
    "### The filtered gene sets are the same \n",
    "method = 'kmeans'\n",
    "length = len(tissue_ns)\n",
    "for collection in ['GO-CC', 'immunesig']:\n",
    "    filter_check = np.array([eval(i).gene_set[collection].filter_index[method] \\\n",
    "                         == eval(j).gene_set[collection].filter_index[method] \\\n",
    "                         for i in tissue_ns for j in tissue_ns]).reshape(length, length)\n",
    "\n",
    "    if np.all(filter_check):\n",
    "        print(f'The filtered gene sets of {collection} are the same in each layer')"
   ]
  },
  {
   "cell_type": "markdown",
   "id": "445838e3",
   "metadata": {},
   "source": [
    "Combine similarity matrices of GO-CC and Immunesig "
   ]
  },
  {
   "cell_type": "code",
   "execution_count": null,
   "id": "396e51d1",
   "metadata": {},
   "outputs": [],
   "source": [
    "combine_mat_lst = [func.combine_sim(eval(f'{item}').gene_set['immunesig'].sim_mat[method],\\\n",
    "                                    eval(f'{item}').proj[f'proj_{method}_GO-CC_immunesig'].transpose(),\\\n",
    "                                    eval(f'{item}').gene_set['GO-CC'].sim_mat[method]) for item in tissue_ns]\n",
    "### filter similarity scores less than 0.1\n",
    "combine_mat_lst = [func.adj_filter_tr(mat, tr = 0.1) for mat in combine_mat_lst]"
   ]
  },
  {
   "cell_type": "code",
   "execution_count": null,
   "id": "d0be685f",
   "metadata": {},
   "outputs": [],
   "source": [
    "### remove filtered gene sets in the Jaccard layer\n",
    "num_cores = 60\n",
    "SPL.call_proj(\"immunesig\", \"GO-CC\", method = \"Jaccard\", clustering_metric = \"AMI\", num_cores = num_cores)\n",
    "SPL.call_Jaccard(\"immunesig\", num_core = num_cores)\n",
    "SPL.call_Jaccard(\"GO-CC\", num_core = num_cores)\n",
    "GO_CC_Jaccard_mat_filtered = SPL.gene_set['GO-CC'].sim_mat['Jaccard'][SPL.gene_set['GO-CC'].filter_index[method],:][:,SPL.gene_set['GO-CC'].filter_index[method]]\n",
    "immunesig_Jaccard_mat_filtered = SPL.gene_set['immunesig'].sim_mat['Jaccard'][SPL.gene_set['immunesig'].filter_index[method],:][:,SPL.gene_set['immunesig'].filter_index[method]]"
   ]
  },
  {
   "cell_type": "code",
   "execution_count": null,
   "id": "71b48203",
   "metadata": {},
   "outputs": [],
   "source": [
    "Jaccard_mat_combine = func.combine_sim(immunesig_Jaccard_mat_filtered, \\\n",
    "                  SPL._Jaccard_proj['proj_Jaccard_immunesig_GO-CC'][SPL.gene_set['immunesig'].filter_index[method],:][:,SPL.gene_set['GO-CC'].filter_index[method]],\n",
    "                  GO_CC_Jaccard_mat_filtered)"
   ]
  },
  {
   "cell_type": "code",
   "execution_count": null,
   "id": "acdc91fd",
   "metadata": {},
   "outputs": [],
   "source": [
    "combine_mat_lst.insert(0, Jaccard_mat_combine)"
   ]
  },
  {
   "cell_type": "code",
   "execution_count": null,
   "id": "969c74c6",
   "metadata": {},
   "outputs": [],
   "source": [
    "### markers for gene sets (either Immunesig or GO-CC)\n",
    "binary_membership = ['#7f7f7f' for item in range(immunesig_Jaccard_mat_filtered.shape[0])] \\\n",
    "+ ['#d62728' for i in range(GO_CC_Jaccard_mat_filtered.shape[0])]"
   ]
  },
  {
   "cell_type": "markdown",
   "id": "313f63a5",
   "metadata": {},
   "source": [
    "Visualization"
   ]
  },
  {
   "cell_type": "code",
   "execution_count": null,
   "id": "d5c2a2c6",
   "metadata": {},
   "outputs": [],
   "source": [
    "fig_lst = []\n",
    "vis_lst = []\n",
    "for adj_tr, ns in zip(combine_mat_lst, tissue_ns):\n",
    "    fig_temp, vis_temp = visualization.vis_UMAP(adj_tr, binary_membership, title = ns, title_size = 22, \\\n",
    "             UMAP_coord = None, colorbar = False)\n",
    "    fig_lst.append(fig_temp)\n",
    "    vis_lst.append(vis_temp)"
   ]
  },
  {
   "cell_type": "code",
   "execution_count": null,
   "id": "7faa2580",
   "metadata": {},
   "outputs": [],
   "source": [
    "### For visualization in Grimon (R package)\n",
    "M = len(vis_lst)\n",
    "vis_df = np.concatenate([vis_lst[i].drop([\"feature\"], axis = 1).to_numpy() for i in range(M)], axis = 1)\n",
    "color_membership = binary_membership"
   ]
  },
  {
   "cell_type": "code",
   "execution_count": null,
   "id": "84fad79a",
   "metadata": {},
   "outputs": [],
   "source": [
    "import rpy2\n",
    "### low-level API\n",
    "import rpy2.rinterface as rinterface\n",
    "### high-level API \n",
    "import rpy2.robjects as ro\n",
    "from rpy2.robjects.packages import importr\n",
    "from rpy2.robjects import pandas2ri\n",
    "from rpy2.robjects.conversion import localconverter\n",
    "\n",
    "with localconverter(ro.default_converter + pandas2ri.converter):\n",
    "    vis_df_r = ro.conversion.py2rpy(pd.DataFrame(vis_df))\n",
    "    vis_label_r = ro.conversion.py2rpy(tissue_ns)\n",
    "    color_r = ro.conversion.py2rpy(color_membership)\n",
    "    \n",
    "### Load into R environment\n",
    "    ro.globalenv[\"vis_df_r\"] = vis_df_r\n",
    "    ro.globalenv[\"vis_label_r\"] = vis_label_r\n",
    "    ro.globalenv[\"color_r\"] = color_r\n",
    "    ro.r(\n",
    "        '''\n",
    "            save(vis_df_r, file = \"coexpression/vis_df_r.Rdata\")  \n",
    "            save(vis_label_r, file = \"coexpression/vis_label_r.Rdata\")\n",
    "            save(color_r, file = \"coexpression/color_r.Rdata\")\n",
    "        ''' \n",
    "        )\n",
    "print (\"Transfer successfully!\")"
   ]
  }
 ],
 "metadata": {
  "hide_input": false,
  "kernelspec": {
   "display_name": "Python 3 (ipykernel)",
   "language": "python",
   "name": "python3"
  },
  "language_info": {
   "codemirror_mode": {
    "name": "ipython",
    "version": 3
   },
   "file_extension": ".py",
   "mimetype": "text/x-python",
   "name": "python",
   "nbconvert_exporter": "python",
   "pygments_lexer": "ipython3",
   "version": "3.9.12"
  }
 },
 "nbformat": 4,
 "nbformat_minor": 5
}
