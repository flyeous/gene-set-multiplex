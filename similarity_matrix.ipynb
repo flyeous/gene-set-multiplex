{
 "cells": [
  {
   "cell_type": "code",
   "execution_count": null,
   "id": "6bf3acda",
   "metadata": {},
   "outputs": [],
   "source": [
    "from utils import tissue\n",
    "from utils import func\n",
    "from utils import visualization\n",
    "from utils import compare"
   ]
  },
  {
   "cell_type": "code",
   "execution_count": null,
   "id": "092212fe",
   "metadata": {},
   "outputs": [],
   "source": [
    "import anndata\n",
    "from multiprocessing import Process\n",
    "import numpy as np"
   ]
  },
  {
   "cell_type": "markdown",
   "id": "aa035f90",
   "metadata": {},
   "source": [
    "#### Load scRNA-seq and gene sets"
   ]
  },
  {
   "cell_type": "code",
   "execution_count": null,
   "id": "3db3206e",
   "metadata": {},
   "outputs": [],
   "source": [
    "%cd data/\n",
    "immune_cell = anndata.read_h5ad('all_cells.h5ad')\n",
    "immune_cell.X.shape[0]"
   ]
  },
  {
   "cell_type": "code",
   "execution_count": null,
   "id": "18eec135",
   "metadata": {},
   "outputs": [],
   "source": [
    "### The gene sets are in a random order\n",
    "from gsea_api.molecular_signatures_db import GeneSets\n",
    "immune_gene_set = GeneSets.from_gmt('c7.immunesigdb.v2023.1.Hs.symbols.gmt')\n",
    "immune_gs_name = [item.name for item in immune_gene_set.gene_sets]\n",
    "immune_gene_set = [list(immune_gene_set.gene_sets[i].genes) for i in range(len(immune_gene_set.gene_sets))]\n",
    "print(f\"ImmuneSigDB database has {len(immune_gene_set)} gene sets.\")"
   ]
  },
  {
   "cell_type": "code",
   "execution_count": null,
   "id": "735c6880",
   "metadata": {},
   "outputs": [],
   "source": [
    "### The gene sets are in a random order\n",
    "from gsea_api.molecular_signatures_db import GeneSets\n",
    "GO_CC_gene_set = GeneSets.from_gmt('c5.go.cc.v2023.1.Hs.symbols.gmt')\n",
    "GO_CC_gs_name = [item.name for item in GO_CC_gene_set.gene_sets]\n",
    "GO_CC_gene_set = [list(GO_CC_gene_set.gene_sets[i].genes) for i in range(len(GO_CC_gene_set.gene_sets))]\n",
    "print(f\"GO_CC database has {len(GO_CC_gene_set )} gene sets.\")"
   ]
  },
  {
   "cell_type": "code",
   "execution_count": null,
   "id": "c9d2e0ac",
   "metadata": {},
   "outputs": [],
   "source": [
    "tissue_labels = np.unique(immune_cell.obs['Organ']).tolist()\n",
    "curated_cell_label = \"Classical monocytes\""
   ]
  },
  {
   "cell_type": "code",
   "execution_count": null,
   "id": "c428afd5",
   "metadata": {},
   "outputs": [],
   "source": [
    "for tis in tissue_labels:\n",
    "    print(f\"The number of {curated_cell_label} in tissue {tis} is {immune_cell[(immune_cell.obs['Organ'] == tis)*(immune_cell.obs['Manually_curated_celltype'] == curated_cell_label)].X.shape[0]}\")"
   ]
  },
  {
   "cell_type": "code",
   "execution_count": null,
   "id": "9d95c6f6",
   "metadata": {},
   "outputs": [],
   "source": [
    "tissue_annotation = [\"Blood\", \"Bone Marrow\", \"Caecum\", \"Duodenum\",\"Ileum\",\"Jejunum EPI\", \"Jejunum LP\", \"Liver\",\n",
    "\"Lung-draining lymph nodes\", \"Lungs\", \"Mesenteric lymph nodes\", \"Omentum\", \"Sigmoid colon\", \n",
    " \"Skeletal muscle\", \"Spleen\", \"Transverse colon\", \"Thymus\"]\n",
    "### select dataset of BLD, BMA, LIV, LNG, SPL (classical monocytes)\n",
    "tissue_labels = np.array(tissue_labels)[[0,1,7,9,14]].tolist()\n",
    "\n",
    "for tis in tissue_labels:\n",
    "    print(f\"The number of {curated_cell_label} in tissue {tis} is {immune_cell[(immune_cell.obs['Organ'] == tis)*(immune_cell.obs['Manually_curated_celltype'] == curated_cell_label)].X.shape[0]}\")\n",
    "share_labels = [tissue_labels[:2],tissue_labels[2:5]]"
   ]
  },
  {
   "cell_type": "code",
   "execution_count": null,
   "id": "03992355",
   "metadata": {},
   "outputs": [],
   "source": [
    "share_labels = [tissue_labels[:2],tissue_labels[2:5]]\n",
    "share_labels"
   ]
  },
  {
   "cell_type": "markdown",
   "id": "531c3fac",
   "metadata": {},
   "source": [
    "#### Instantiate tissue-gene set objects"
   ]
  },
  {
   "cell_type": "code",
   "execution_count": null,
   "id": "67c4066d",
   "metadata": {
    "scrolled": true
   },
   "outputs": [],
   "source": [
    "sample_size = 1200\n",
    "seed = 111\n",
    "num_core = int(60/len(share_labels))\n",
    "method = \"kmeans\"\n",
    "clustering_metric = \"AMI\"\n",
    "num_k = 10\n",
    "hyperparameter =  {'num_core':num_core, 'para_kmeans':{'n_clusters':num_k, 'random_state':0, 'n_init':10}}\n",
    "\n",
    "def target_fun(tissue_labels):\n",
    "    for tis in tissue_labels:\n",
    "        temp = tissue.tissue(name = tis, processed = True, \n",
    "                 scRNAseq = immune_cell[(immune_cell.obs['Organ'] == tis)*(immune_cell.obs['Manually_curated_celltype'] == curated_cell_label)],\n",
    "                 gene_set_collection_name = \"GO-CC\",\n",
    "                 gene_set_gene_symbols = GO_CC_gene_set,\n",
    "                 gene_set_names = GO_CC_gs_name)\n",
    "        \n",
    "        print(f'Tissue {tis} has been instantiated.')\n",
    "    \n",
    "        temp.cell_sampling(size = sample_size, seed = seed)\n",
    "    \n",
    "        temp.call_kmeans(gene_set_collection_name = \"GO-CC\", clustering_metric = clustering_metric, para_Kmeans = hyperparameter)\n",
    "    \n",
    "        temp.add_gene_set(gene_set_collection_name = \"immunesig\", gene_set_gene_symbols = immune_gene_set, gene_set_names = immune_gs_name)\n",
    "        print(f'\"immunesig\" has been added to {tis}.') \n",
    "        ### the gene set is immunesig\n",
    "        temp.call_kmeans(gene_set_collection_name = \"immunesig\", clustering_metric = clustering_metric, para_Kmeans = hyperparameter)\n",
    "        ### similarity between gene sets in GO-CC and immunesig\n",
    "        temp.call_proj(gene_set_collection_name_1 = \"GO-CC\", gene_set_collection_name_2 = \"immunesig\",\\\n",
    "              method = method, clustering_metric = clustering_metric, num_cores = num_core)\n",
    "        \n",
    "        ### release scRNAseq data\n",
    "        temp.scRNAseq_release()\n",
    "        \n",
    "        ### save tissue objects\n",
    "        np.save(f'{tis}_{curated_cell_label}_GO_CC_immunesig.npy', temp)\n",
    "    \n",
    "        print(f'The pipeline for {tis} finishes!')\n",
    "    \n",
    "if __name__ == \"__main__\":\n",
    "    processes = []\n",
    "    for i in range(2):           \n",
    "        proc = Process(target = target_fun, args = [share_labels[i]]) \n",
    "        proc.start()\n",
    "        processes.append(proc)\n",
    "    \n",
    "    for proc in processes:\n",
    "        proc.join()"
   ]
  },
  {
   "cell_type": "markdown",
   "id": "e50e81e0",
   "metadata": {},
   "source": [
    "$~$"
   ]
  },
  {
   "cell_type": "markdown",
   "id": "64b37d7c",
   "metadata": {},
   "source": [
    "$~$"
   ]
  },
  {
   "cell_type": "markdown",
   "id": "271c5c88",
   "metadata": {},
   "source": [
    "$~$"
   ]
  },
  {
   "cell_type": "markdown",
   "id": "6e6479f4",
   "metadata": {},
   "source": [
    "#### Examples"
   ]
  },
  {
   "cell_type": "code",
   "execution_count": null,
   "id": "ae47e5d1",
   "metadata": {},
   "outputs": [],
   "source": [
    "%cd data/\n",
    "\n",
    "curated_cell_label = \"Classical monocytes\"\n",
    "tissue_ns = ['BLD', 'BMA','LIV', 'LNG', 'SPL']\n",
    "for name in tissue_ns:\n",
    "    globals()[name] = np.load(f'{name}_{curated_cell_label}_GO_CC_immunesig.npy', allow_pickle = True).tolist()"
   ]
  },
  {
   "cell_type": "code",
   "execution_count": null,
   "id": "0a5e9289",
   "metadata": {},
   "outputs": [],
   "source": [
    "tis = 'BMA'"
   ]
  },
  {
   "cell_type": "code",
   "execution_count": null,
   "id": "2f17ee57",
   "metadata": {},
   "outputs": [],
   "source": [
    "### Add scRNA-seq data to the tissue object\n",
    "BMA.add_scRNAseq(immune_cell[(immune_cell.obs['Organ'] == tis)*(immune_cell.obs['Manually_curated_celltype'] \\                                                              == curated_cell_label)])\n",
    "### sample\n",
    "sample_size = 1200\n",
    "seed = 111\n",
    "BMA.cell_sampling(size = sample_size, seed = seed)\n",
    "sampled_data = BMA.sampled_data[2]"
   ]
  },
  {
   "cell_type": "code",
   "execution_count": null,
   "id": "f18a683a",
   "metadata": {},
   "outputs": [],
   "source": [
    "similarity_matrix = BMA.gene_set['GO-CC'].sim_mat['kmeans']\n",
    "gene_set_names = BMA.gene_set['GO-CC'].gs_names\n",
    "filter_index = BMA.gene_set['GO-CC'].filter_index['kmeans']\n",
    "cluster_label = BMA.gene_set['GO-CC'].cluster_labels['kmeans']\n",
    "gene_set_genes = BMA.gene_set['GO-CC'].gene_set\n",
    "BMA.call_Jaccard(gene_set_collection_name = 'GO-CC', num_core = 60)\n",
    "Jaccard_similarity_matrix = BMA.gene_set['GO-CC'].sim_mat['Jaccard']"
   ]
  },
  {
   "cell_type": "code",
   "execution_count": null,
   "id": "efe264c5",
   "metadata": {},
   "outputs": [],
   "source": [
    "where_high = (np.where(similarity_matrix - np.diag(np.ones(similarity_matrix.shape[0])) \\\n",
    "         >= np.quantile(similarity_matrix - np.diag(np.ones(similarity_matrix.shape[0])), 0.99999)))\n",
    "where_low = (np.where((similarity_matrix - np.diag(np.ones(similarity_matrix.shape[0])) \\\n",
    "         <= 0)))"
   ]
  },
  {
   "cell_type": "code",
   "execution_count": null,
   "id": "3a7bee82",
   "metadata": {},
   "outputs": [],
   "source": [
    "### high\n",
    "where = []\n",
    "for i, j in zip(where_high[0], where_high[1]):\n",
    "    if i < j:\n",
    "        where.append([i,j])"
   ]
  },
  {
   "cell_type": "code",
   "execution_count": null,
   "id": "1c743e30",
   "metadata": {},
   "outputs": [],
   "source": [
    "### case 1\n",
    "i = 3\n",
    "UMAP_cor_E, UMAP_cor_F, S, RV_coef, mantel_coef, Jaccard_coef, U_E, U_F = compare.gene_set_similarity_revealed_by_clustering_structure_UMAP_illustration(E_loc = where[i][0],\\\n",
    "                                                    F_loc = where[i][1], gs_names = gene_set_names, gs_genes = gene_set_genes, \\\n",
    "                         filter_index = filter_index, scRNAseq_sample = sampled_data,  \\\n",
    "                                                                       Jaccard_similarity_matrix = Jaccard_similarity_matrix)"
   ]
  },
  {
   "cell_type": "code",
   "execution_count": null,
   "id": "13566f28",
   "metadata": {},
   "outputs": [],
   "source": [
    "### case 2\n",
    "i = 4\n",
    "UMAP_cor_E, UMAP_cor_F, S, RV_coef, mantel_coef, Jaccard_coef, U_E, U_F = compare.gene_set_similarity_revealed_by_clustering_structure_UMAP_illustration(E_loc = where[i][0],\\\n",
    "                                                    F_loc = where[i][1], gs_names = gene_set_names, gs_genes = gene_set_genes, \\\n",
    "                         filter_index = filter_index, scRNAseq_sample = sampled_data,  \\\n",
    "                                                                       Jaccard_similarity_matrix = Jaccard_similarity_matrix)"
   ]
  },
  {
   "cell_type": "code",
   "execution_count": null,
   "id": "b08c8a1e",
   "metadata": {},
   "outputs": [],
   "source": [
    "fig = visualization.vis_3D_umap(UMAP_cor_E,  UMAP_cor_F, roof_label  = gene_set_names[filter_index[where[i][0]]],  floor_label = gene_set_names[filter_index[where[i][1]]], \\\n",
    "        font_size = 30, title = f'Gene sets with a high similarity, S = {H:.2f}', title_size = 32, line_alpha = 0.1, colorbar = \"tab10\",floor = 0, roof = 5, roof_theta = 0, \\\n",
    "                                z_tick_pad = 320, view_para = {'elev':30., 'azim':-60}, figsize = (8,16))"
   ]
  },
  {
   "cell_type": "code",
   "execution_count": null,
   "id": "e0895c94",
   "metadata": {},
   "outputs": [],
   "source": [
    "fig.savefig(f'S_high.png', bbox_inches = 'tight', dpi = 300)"
   ]
  },
  {
   "cell_type": "markdown",
   "id": "a387e759",
   "metadata": {},
   "source": [
    "$~$"
   ]
  },
  {
   "cell_type": "code",
   "execution_count": null,
   "id": "f19571bc",
   "metadata": {},
   "outputs": [],
   "source": [
    "### low\n",
    "where = []\n",
    "for i, j in zip(where_low[0], where_low[1]):\n",
    "    if i < j:\n",
    "        where.append([i,j])"
   ]
  },
  {
   "cell_type": "code",
   "execution_count": null,
   "id": "ace25202",
   "metadata": {},
   "outputs": [],
   "source": [
    "### case 3: with low similarity score (non-zero)\n",
    "i = 0\n",
    "UMAP_cor_E, UMAP_cor_F, S, RV_coef, mantel_coef, Jaccard_coef, U_E, U_F = compare.gene_set_similarity_revealed_by_clustering_structure_UMAP_illustration(E_loc = where[i][0],\\\n",
    "                                                    F_loc = where[i][1], gs_names = gene_set_names, gs_genes = gene_set_genes, \\\n",
    "                         filter_index = filter_index, scRNAseq_sample = sampled_data,  \\\n",
    "                                                                       Jaccard_similarity_matrix = Jaccard_similarity_matrix)"
   ]
  },
  {
   "cell_type": "code",
   "execution_count": null,
   "id": "51ef2fe1",
   "metadata": {},
   "outputs": [],
   "source": [
    "fig = visualization.vis_3D_umap(UMAP_cor_E,  UMAP_cor_F, roof_label = gene_set_names[filter_index[where[i][0]]],  floor_label = gene_set_names[filter_index[where[i][1]]], \\\n",
    "        font_size = 30, title = f'Gene sets with a low similarity, S = {np.abs(S):.2f}.', \\\n",
    "                                title_size =32, line_alpha = 0.1, colorbar = \"tab10\",floor = 1, roof = 5, roof_theta = 15, \\\n",
    "                                z_tick_pad = 250, view_para = {'elev':30., 'azim':-60}, figsize = (8,16))"
   ]
  },
  {
   "cell_type": "code",
   "execution_count": null,
   "id": "59f8de5d",
   "metadata": {},
   "outputs": [],
   "source": [
    "fig.savefig(f'S_min.png', bbox_inches = 'tight', dpi = 300)"
   ]
  },
  {
   "cell_type": "markdown",
   "id": "220fbdc2",
   "metadata": {},
   "source": [
    "$~$"
   ]
  },
  {
   "cell_type": "code",
   "execution_count": null,
   "id": "43199a3f",
   "metadata": {},
   "outputs": [],
   "source": [
    "where_intermediate = (np.where((similarity_matrix - np.diag(np.ones(similarity_matrix.shape[0])) \\\n",
    "         >= 0.3)&(similarity_matrix - np.diag(np.ones(similarity_matrix.shape[0])) \\\n",
    "         <= 0.31)))"
   ]
  },
  {
   "cell_type": "code",
   "execution_count": null,
   "id": "08dcdb75",
   "metadata": {},
   "outputs": [],
   "source": [
    "i = 1"
   ]
  },
  {
   "cell_type": "code",
   "execution_count": null,
   "id": "b214da62",
   "metadata": {},
   "outputs": [],
   "source": [
    "UMAP_cor_E, UMAP_cor_F, H, RV_coef, mantel_coef, Jaccard_coef, U_E, U_F = compare.gene_set_similarity_revealed_by_clustering_structure_UMAP_illustration(E_loc = where_intermediate[i][0],\\\n",
    "                                                    F_loc = where_intermediate[i][1], gs_names = gene_set_names, gs_genes = gene_set_genes, \\\n",
    "                         filter_index = filter_index, scRNAseq_sample = sampled_data,  \\\n",
    "                                                                       Jaccard_similarity_matrix = Jaccard_similarity_matrix)"
   ]
  },
  {
   "cell_type": "code",
   "execution_count": null,
   "id": "d5b8213b",
   "metadata": {},
   "outputs": [],
   "source": [
    "fig = visualization.vis_3D_umap(UMAP_cor_E,  UMAP_cor_F, floor_label = '',  roof_label = '', \\\n",
    "        font_size = 30, title = f'', \\\n",
    "                                title_size =32, line_alpha = 0.1, colorbar = \"tab10\",floor = 1, roof = 5, roof_theta = 180, \\\n",
    "                                z_tick_pad = 250, view_para = {'elev':30., 'azim':-45}, figsize = (8,16))"
   ]
  },
  {
   "cell_type": "code",
   "execution_count": null,
   "id": "8679cf12",
   "metadata": {},
   "outputs": [],
   "source": [
    "fig.savefig('graphical_abstract.png', bbox_inches = 'tight', dpi = 300)"
   ]
  },
  {
   "cell_type": "markdown",
   "id": "af43a821",
   "metadata": {},
   "source": [
    "$~$"
   ]
  }
 ],
 "metadata": {
  "hide_input": false,
  "kernelspec": {
   "display_name": "Python 3 (ipykernel)",
   "language": "python",
   "name": "python3"
  },
  "language_info": {
   "codemirror_mode": {
    "name": "ipython",
    "version": 3
   },
   "file_extension": ".py",
   "mimetype": "text/x-python",
   "name": "python",
   "nbconvert_exporter": "python",
   "pygments_lexer": "ipython3",
   "version": "3.9.12"
  }
 },
 "nbformat": 4,
 "nbformat_minor": 5
}
